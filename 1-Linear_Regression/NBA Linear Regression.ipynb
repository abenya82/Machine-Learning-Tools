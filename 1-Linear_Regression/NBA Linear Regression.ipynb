{
 "cells": [
  {
   "cell_type": "markdown",
   "metadata": {},
   "source": [
    "Here we explore a dataset to find linear relationships between different features.  We choose arbitrarily a robust dataset where linear relationships may exist.  \n",
    "As an example here we will use NBA statistics from the 2022 season taken from [www.basketball-reference.com](https://www.basketball-reference.com/)\n",
    "\n",
    "  \n",
    "## Process:\n",
    " - Clean Data\n",
    " - Develop Model\n",
    " - Analyze Results\n"
   ]
  },
  {
   "cell_type": "markdown",
   "metadata": {},
   "source": [
    "Import Dependencies"
   ]
  },
  {
   "cell_type": "code",
   "execution_count": 15,
   "metadata": {},
   "outputs": [],
   "source": [
    "\n",
    "import numpy as np\n",
    "import pandas as pd\n",
    "import matplotlib.pyplot as plt\n",
    "from itertools import combinations, permutations\n",
    "\n",
    "%matplotlib inline"
   ]
  },
  {
   "cell_type": "code",
   "execution_count": 16,
   "metadata": {},
   "outputs": [
    {
     "name": "stdout",
     "output_type": "stream",
     "text": [
      "numpy version: 1.26.0\n",
      "pandas version: 2.1.1\n"
     ]
    }
   ],
   "source": [
    "print(f'numpy version: {np.__version__}')\n",
    "print(f'pandas version: {pd.__version__}')"
   ]
  },
  {
   "cell_type": "markdown",
   "metadata": {},
   "source": [
    "Goal: Find NBA statistic categories that correlate"
   ]
  },
  {
   "cell_type": "markdown",
   "metadata": {},
   "source": [
    "## Import the data from csv\n",
    "### Here we use NBA data from 2021-2022 season\n"
   ]
  },
  {
   "cell_type": "code",
   "execution_count": 17,
   "metadata": {},
   "outputs": [],
   "source": [
    "data = pd.read_csv('./data/nba2022-working.csv')"
   ]
  },
  {
   "cell_type": "markdown",
   "metadata": {},
   "source": [
    "To remove unhelpful data,\n",
    "We will remove players who played in less than 20 games in the season."
   ]
  },
  {
   "cell_type": "code",
   "execution_count": 18,
   "metadata": {},
   "outputs": [],
   "source": [
    "filtered_data = data[data['G'] >= 20]\n",
    "filtered_data.reset_index(drop=True, inplace=True)"
   ]
  },
  {
   "cell_type": "markdown",
   "metadata": {},
   "source": [
    "Additionally we remove categorical data and labelling data\n",
    "\n",
    "we (naively) assume there is no connection between categorical data and numerical data."
   ]
  },
  {
   "cell_type": "code",
   "execution_count": 19,
   "metadata": {},
   "outputs": [],
   "source": [
    "columns_to_remove = ['Rk','Player','Pos','Tm','GS','FG','3P','2P','eFG%','FT','FTA','FT%','TRB','PF','Player-additional']\n",
    "trimmed_filtered_data = filtered_data.drop(columns=columns_to_remove)\n",
    "\n",
    "trimmed_filtered_data = trimmed_filtered_data.apply(pd.to_numeric, errors='ignore')\n",
    "trimmed_filtered_data = trimmed_filtered_data.astype(int, errors='ignore')"
   ]
  },
  {
   "cell_type": "markdown",
   "metadata": {},
   "source": [
    "Preview of data:"
   ]
  },
  {
   "cell_type": "code",
   "execution_count": 20,
   "metadata": {},
   "outputs": [
    {
     "data": {
      "text/html": [
       "<div>\n",
       "<style scoped>\n",
       "    .dataframe tbody tr th:only-of-type {\n",
       "        vertical-align: middle;\n",
       "    }\n",
       "\n",
       "    .dataframe tbody tr th {\n",
       "        vertical-align: top;\n",
       "    }\n",
       "\n",
       "    .dataframe thead th {\n",
       "        text-align: right;\n",
       "    }\n",
       "</style>\n",
       "<table border=\"1\" class=\"dataframe\">\n",
       "  <thead>\n",
       "    <tr style=\"text-align: right;\">\n",
       "      <th></th>\n",
       "      <th>Age</th>\n",
       "      <th>G</th>\n",
       "      <th>MP</th>\n",
       "      <th>FGA</th>\n",
       "      <th>FG%</th>\n",
       "      <th>3PA</th>\n",
       "      <th>3P%</th>\n",
       "      <th>2PA</th>\n",
       "      <th>2P%</th>\n",
       "      <th>ORB</th>\n",
       "      <th>DRB</th>\n",
       "      <th>AST</th>\n",
       "      <th>STL</th>\n",
       "      <th>BLK</th>\n",
       "      <th>TOV</th>\n",
       "      <th>PTS</th>\n",
       "    </tr>\n",
       "  </thead>\n",
       "  <tbody>\n",
       "    <tr>\n",
       "      <th>0</th>\n",
       "      <td>22</td>\n",
       "      <td>73</td>\n",
       "      <td>1725</td>\n",
       "      <td>603</td>\n",
       "      <td>0.439</td>\n",
       "      <td>156</td>\n",
       "      <td>0.359</td>\n",
       "      <td>447</td>\n",
       "      <td>0.468</td>\n",
       "      <td>146</td>\n",
       "      <td>327</td>\n",
       "      <td>82</td>\n",
       "      <td>37</td>\n",
       "      <td>41</td>\n",
       "      <td>84</td>\n",
       "      <td>664</td>\n",
       "    </tr>\n",
       "    <tr>\n",
       "      <th>1</th>\n",
       "      <td>28</td>\n",
       "      <td>76</td>\n",
       "      <td>1999</td>\n",
       "      <td>384</td>\n",
       "      <td>0.547</td>\n",
       "      <td>1</td>\n",
       "      <td>0.000</td>\n",
       "      <td>383</td>\n",
       "      <td>0.548</td>\n",
       "      <td>349</td>\n",
       "      <td>411</td>\n",
       "      <td>256</td>\n",
       "      <td>65</td>\n",
       "      <td>60</td>\n",
       "      <td>115</td>\n",
       "      <td>528</td>\n",
       "    </tr>\n",
       "    <tr>\n",
       "      <th>2</th>\n",
       "      <td>24</td>\n",
       "      <td>56</td>\n",
       "      <td>1825</td>\n",
       "      <td>729</td>\n",
       "      <td>0.557</td>\n",
       "      <td>6</td>\n",
       "      <td>0.000</td>\n",
       "      <td>723</td>\n",
       "      <td>0.562</td>\n",
       "      <td>137</td>\n",
       "      <td>427</td>\n",
       "      <td>190</td>\n",
       "      <td>80</td>\n",
       "      <td>44</td>\n",
       "      <td>148</td>\n",
       "      <td>1068</td>\n",
       "    </tr>\n",
       "    <tr>\n",
       "      <th>3</th>\n",
       "      <td>21</td>\n",
       "      <td>32</td>\n",
       "      <td>360</td>\n",
       "      <td>132</td>\n",
       "      <td>0.402</td>\n",
       "      <td>48</td>\n",
       "      <td>0.125</td>\n",
       "      <td>84</td>\n",
       "      <td>0.560</td>\n",
       "      <td>33</td>\n",
       "      <td>54</td>\n",
       "      <td>21</td>\n",
       "      <td>6</td>\n",
       "      <td>10</td>\n",
       "      <td>16</td>\n",
       "      <td>132</td>\n",
       "    </tr>\n",
       "    <tr>\n",
       "      <th>4</th>\n",
       "      <td>36</td>\n",
       "      <td>47</td>\n",
       "      <td>1050</td>\n",
       "      <td>458</td>\n",
       "      <td>0.550</td>\n",
       "      <td>46</td>\n",
       "      <td>0.304</td>\n",
       "      <td>412</td>\n",
       "      <td>0.578</td>\n",
       "      <td>73</td>\n",
       "      <td>185</td>\n",
       "      <td>42</td>\n",
       "      <td>14</td>\n",
       "      <td>47</td>\n",
       "      <td>44</td>\n",
       "      <td>607</td>\n",
       "    </tr>\n",
       "  </tbody>\n",
       "</table>\n",
       "</div>"
      ],
      "text/plain": [
       "   Age   G    MP  FGA    FG%  3PA    3P%  2PA    2P%  ORB  DRB  AST  STL  BLK  \\\n",
       "0   22  73  1725  603  0.439  156  0.359  447  0.468  146  327   82   37   41   \n",
       "1   28  76  1999  384  0.547    1  0.000  383  0.548  349  411  256   65   60   \n",
       "2   24  56  1825  729  0.557    6  0.000  723  0.562  137  427  190   80   44   \n",
       "3   21  32   360  132  0.402   48  0.125   84  0.560   33   54   21    6   10   \n",
       "4   36  47  1050  458  0.550   46  0.304  412  0.578   73  185   42   14   47   \n",
       "\n",
       "   TOV   PTS  \n",
       "0   84   664  \n",
       "1  115   528  \n",
       "2  148  1068  \n",
       "3   16   132  \n",
       "4   44   607  "
      ]
     },
     "execution_count": 20,
     "metadata": {},
     "output_type": "execute_result"
    }
   ],
   "source": [
    "trimmed_filtered_data.head()"
   ]
  },
  {
   "cell_type": "markdown",
   "metadata": {},
   "source": [
    "Helper Functions"
   ]
  },
  {
   "cell_type": "code",
   "execution_count": 21,
   "metadata": {},
   "outputs": [],
   "source": [
    "def predict(m,b,x):\n",
    "    return m*x+b\n",
    "\n",
    "def mean(x):\n",
    "    s = 0\n",
    "    for i in range(len(x)):\n",
    "        s += x[i]\n",
    "    return s/len(x)"
   ]
  },
  {
   "cell_type": "code",
   "execution_count": 22,
   "metadata": {},
   "outputs": [],
   "source": [
    "\n",
    "def get_r2_show(col1,col2,show_step=True):\n",
    "    '''\n",
    "    params:\n",
    "        col1:  list of data for the Independent Variable\n",
    "        col2:  list of data for the dependent variable\n",
    "        show_step:  bool, optional True for printing details and graphs\n",
    "\n",
    "\n",
    "    returns:\n",
    "        a plot of the linear regression line with data\n",
    "        the r^2 value for the linear regression \n",
    "            performed on the two lists of data\n",
    "\n",
    "\n",
    "    '''\n",
    "\n",
    "    X = col1\n",
    "    Y = col2\n",
    "\n",
    "    mean_X = np.mean(X)\n",
    "    mean_Y = np.mean(Y)\n",
    "    if show_step:\n",
    "        print(f'length of col1 = {len(X)}, length of col2 = {len(Y)}')\n",
    "        print(f'mean of col1 = {mean_X:.2f}, mean of col2 = {mean_Y:.2f}')\n",
    "    n = len(X)\n",
    "\n",
    "    top = 0\n",
    "    bottom = 0\n",
    "    for i in range(n):\n",
    "        X_resid = (X[i] - mean_X)\n",
    "        Y_resid = (Y[i] - mean_Y)\n",
    "    top += X_resid * Y_resid\n",
    "    bottom += X_resid ** 2\n",
    "    m = top / bottom\n",
    "    b = mean_Y - (m * mean_X)\n",
    "\n",
    "    if show_step:\n",
    "        print(f'm = {m:.4f}, b={b:.4f}')\n",
    "        print(f'y = mx + b')\n",
    "        # plot\n",
    "        max_x = np.max(X) + np.max(X)*.1\n",
    "        min_x = np.min(X) - np.min(X)*.1\n",
    "\n",
    "    \n",
    "        x = np.linspace (min_x, max_x, 100)\n",
    "        y = predict(m=m,b=b,x=x)\n",
    "\n",
    "        plt.plot(x, y, color='#26bf30', label='Regression Line')\n",
    "        plt.scatter(X, Y, c='#602c8a', label='Samples')\n",
    "\n",
    "        plt.xlabel(col1)\n",
    "        plt.ylabel(col2)\n",
    "        plt.legend()\n",
    "        plt.show()\n",
    "\n",
    "\n",
    "    sum_of_squares = 0\n",
    "    sum_of_residuals = 0\n",
    "\n",
    "    for i in range(len(X)):\n",
    "        prediction = predict(m=m,b=b,x=X[i])\n",
    "        sum_of_squares += (Y[i] - mean_Y) ** 2\n",
    "        sum_of_residuals += (Y[i] - prediction) ** 2\n",
    "\n",
    "    r2 = 1 - (sum_of_residuals/sum_of_squares)\n",
    "    if show_step: print(r2)\n",
    "    return r2\n"
   ]
  },
  {
   "cell_type": "code",
   "execution_count": 23,
   "metadata": {},
   "outputs": [
    {
     "name": "stdout",
     "output_type": "stream",
     "text": [
      "length of col1 = 443, length of col2 = 443\n",
      "mean of col1 = 26.02, mean of col2 = 479.42\n",
      "m = -7.7192, b=680.2617\n",
      "y = mx + b\n"
     ]
    },
    {
     "data": {
      "image/png": "[encoded data removed]",
      "text/plain": [
       "<Figure size 640x480 with 1 Axes>"
      ]
     },
     "metadata": {},
     "output_type": "display_data"
    },
    {
     "name": "stdout",
     "output_type": "stream",
     "text": [
      "-0.01209524974037346\n"
     ]
    },
    {
     "data": {
      "text/plain": [
       "-0.01209524974037346"
      ]
     },
     "execution_count": 23,
     "metadata": {},
     "output_type": "execute_result"
    }
   ],
   "source": [
    "get_r2_show(trimmed_filtered_data['Age'],trimmed_filtered_data['FGA'])"
   ]
  },
  {
   "cell_type": "markdown",
   "metadata": {},
   "source": [
    "Below, we have a method the same calculation but no graphical output."
   ]
  },
  {
   "cell_type": "code",
   "execution_count": 11,
   "metadata": {},
   "outputs": [],
   "source": [
    "\n",
    "def get_r2(col1,col2):\n",
    "    '''\n",
    "    params:\n",
    "        col1:  list of data for the Independent Variable\n",
    "        col2:  list of data for the dependent variable\n",
    "        \n",
    "\n",
    "\n",
    "    returns:\n",
    "        the r^2 value for the linear regression \n",
    "            performed on the two lists of data\n",
    "\n",
    "\n",
    "    '''\n",
    "    assert(len(col1)==len(col2))\n",
    "    \n",
    "    X = col1\n",
    "    Y = col2\n",
    "    \n",
    "    \n",
    "    mean_X = mean(X)\n",
    "    mean_Y = mean(Y)\n",
    "    \n",
    "    n = len(X)\n",
    "\n",
    "    top = 0\n",
    "    bottom = 0\n",
    "    for i in range(n):\n",
    "        X_resid = (X[i] - mean_X)\n",
    "        Y_resid = (Y[i] - mean_Y)\n",
    "    top += X_resid * Y_resid\n",
    "    bottom += X_resid ** 2\n",
    "    m = top / bottom\n",
    "    b = mean_Y - (m * mean_X)\n",
    "\n",
    "    \n",
    "\n",
    "\n",
    "    sum_of_squares = 0\n",
    "    sum_of_residuals = 0\n",
    "\n",
    "    for i in range(len(X)):\n",
    "        prediction = predict(m=m,b=b,x=X[i])\n",
    "        sum_of_squares += (Y[i] - mean_Y) ** 2\n",
    "        sum_of_residuals += (Y[i] - prediction) ** 2\n",
    "\n",
    "    r2 = 1 - (sum_of_residuals/sum_of_squares)\n",
    "    \n",
    "    return r2"
   ]
  },
  {
   "cell_type": "markdown",
   "metadata": {},
   "source": [
    "We seek columns that are highly correlated. Those columns will have a high $r^2$ value\n",
    " \n",
    "Next we perform a linear regression on all combinations of columns in the data\n",
    "\n",
    "And print the combinations where $r^2 > 0.5$"
   ]
  },
  {
   "cell_type": "code",
   "execution_count": 12,
   "metadata": {},
   "outputs": [
    {
     "name": "stdout",
     "output_type": "stream",
     "text": [
      "IV: G, DV: MP\n",
      "r2 = 0.6490\n",
      "IV: MP, DV: 2PA\n",
      "r2 = 0.5255\n",
      "IV: MP, DV: TOV\n",
      "r2 = 0.5842\n",
      "IV: MP, DV: PTS\n",
      "r2 = 0.6667\n",
      "IV: FG%, DV: 2P%\n",
      "r2 = 0.6131\n",
      "IV: 2PA, DV: TOV\n",
      "r2 = 0.7429\n",
      "IV: 2PA, DV: PTS\n",
      "r2 = 0.6389\n",
      "IV: ORB, DV: DRB\n",
      "r2 = 0.5058\n",
      "IV: ORB, DV: BLK\n",
      "r2 = 0.5395\n",
      "IV: TOV, DV: PTS\n",
      "r2 = 0.6594\n"
     ]
    }
   ],
   "source": [
    "column_names = list(trimmed_filtered_data.columns)\n",
    "\n",
    "for pair in combinations(column_names, 2): \n",
    "    \n",
    "    \n",
    "    r2 = get_r2(trimmed_filtered_data[pair[0]],trimmed_filtered_data[pair[1]])\n",
    "    if r2 > 0.5:\n",
    "        print(f'IV: {pair[0]}, DV: {pair[1]}')\n",
    "        print(f'r2 = {r2:.4f}')"
   ]
  },
  {
   "cell_type": "markdown",
   "metadata": {},
   "source": [
    "$r^2$ the percentage of the dependent variable variation that a linear model explains.\n",
    "\n",
    "We notice some correlation between columns of data.  But $r^2$ values do not tell the entire story.  Low $r^2$ values are expected in cases where there is some unexplainable variation.  \n",
    "\n",
    "Additionally low $r^2$ scores are frequently found in studies where human behavior is considered.  "
   ]
  }
 ],
 "metadata": {
  "kernelspec": {
   "display_name": "NN_prac",
   "language": "python",
   "name": "python3"
  },
  "language_info": {
   "codemirror_mode": {
    "name": "ipython",
    "version": 3
   },
   "file_extension": ".py",
   "mimetype": "text/x-python",
   "name": "python",
   "nbconvert_exporter": "python",
   "pygments_lexer": "ipython3",
   "version": "3.10.13"
  }
 },
 "nbformat": 4,
 "nbformat_minor": 2
}
